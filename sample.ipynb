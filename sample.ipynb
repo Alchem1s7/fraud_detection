{
 "cells": [
  {
   "cell_type": "code",
   "execution_count": 2,
   "id": "initial_id",
   "metadata": {
    "collapsed": true,
    "is_executing": true
   },
   "outputs": [],
   "source": [
    "import pandas as pd\n",
    "import numpy as np\n",
    "import seaborn as sns\n",
    "from matplotlib import pyplot as plt"
   ]
  },
  {
   "cell_type": "markdown",
   "id": "575acb8f60edcc16",
   "metadata": {
    "collapsed": false
   },
   "source": [
    "# Types of Frauds\n",
    "- Online fraud\n",
    "- Credit card fraud\n",
    "- Threat\n",
    "- Theft of inventory\n",
    "# Ways of detecting fraud\n",
    "## Rule-based approach\n",
    " Those are algorithms written by fraud analysts, based on strict rules, the changes for detecting a new fraud are done manually.\n",
    " When the customers increases the data also increases and for that reason human effort increases, is time-consuming and costly\n",
    " \n",
    "## Disadvantages\n",
    "- Cannot recognize hidde patterns\n",
    "- Cannot predict fraud by going beyond the rules\n",
    "- Cannot respond to new situations, not trains on or explicitly programmed\n",
    "\n",
    "## Data Science approach\n",
    "## Machine learning\n",
    "\n",
    "- Supervsed learning: Data labelling and unbalanced data\n",
    "- Unsupervised learning: PCA and K-means clustering\n",
    "\n",
    "## Challenges of Fraud detection model\n",
    "- Unbalanced data\n",
    "- Operational Efficiency\n",
    "- Incorrect Flagging\n",
    "\n",
    "## Dealing with unbalanced data\n",
    "- Most of the transactions are legitimate\n",
    "- Models learn better from a balanced distribution\n",
    "- Classifier tends to favour majority class\n",
    "\n",
    "## Sampling method to solve unbalanced data problem\n",
    "- We perform the sampling in the training set\n",
    "- Random Over Sampling (ROS)\n",
    "- Random Under-Sampling (RUS)\n",
    "- BOTH\n",
    "- Synthetic Minority Over-Sampling technique (SMOTE)"
   ]
  },
  {
   "cell_type": "code",
   "execution_count": 3,
   "id": "4a5fac054f4758de",
   "metadata": {
    "ExecuteTime": {
     "end_time": "2024-04-11T00:09:39.445338500Z",
     "start_time": "2024-04-11T00:09:35.475712800Z"
    },
    "collapsed": false
   },
   "outputs": [
    {
     "name": "stdout",
     "output_type": "stream",
     "text": [
      "<class 'pandas.core.frame.DataFrame'>\n",
      "RangeIndex: 284807 entries, 0 to 284806\n",
      "Data columns (total 31 columns):\n",
      " #   Column  Non-Null Count   Dtype  \n",
      "---  ------  --------------   -----  \n",
      " 0   Time    284807 non-null  float64\n",
      " 1   V1      284807 non-null  float64\n",
      " 2   V2      284807 non-null  float64\n",
      " 3   V3      284807 non-null  float64\n",
      " 4   V4      284807 non-null  float64\n",
      " 5   V5      284807 non-null  float64\n",
      " 6   V6      284807 non-null  float64\n",
      " 7   V7      284807 non-null  float64\n",
      " 8   V8      284807 non-null  float64\n",
      " 9   V9      284807 non-null  float64\n",
      " 10  V10     284807 non-null  float64\n",
      " 11  V11     284807 non-null  float64\n",
      " 12  V12     284807 non-null  float64\n",
      " 13  V13     284807 non-null  float64\n",
      " 14  V14     284807 non-null  float64\n",
      " 15  V15     284807 non-null  float64\n",
      " 16  V16     284807 non-null  float64\n",
      " 17  V17     284807 non-null  float64\n",
      " 18  V18     284807 non-null  float64\n",
      " 19  V19     284807 non-null  float64\n",
      " 20  V20     284807 non-null  float64\n",
      " 21  V21     284807 non-null  float64\n",
      " 22  V22     284807 non-null  float64\n",
      " 23  V23     284807 non-null  float64\n",
      " 24  V24     284807 non-null  float64\n",
      " 25  V25     284807 non-null  float64\n",
      " 26  V26     284807 non-null  float64\n",
      " 27  V27     284807 non-null  float64\n",
      " 28  V28     284807 non-null  float64\n",
      " 29  Amount  284807 non-null  float64\n",
      " 30  Class   284807 non-null  int64  \n",
      "dtypes: float64(30), int64(1)\n",
      "memory usage: 67.4 MB\n"
     ]
    }
   ],
   "source": [
    "path = r\"C:\\Users\\alche\\DataspellProjects\\fraud_detection\\archive\\creditcard.csv\"\n",
    "df = pd.read_csv(path)\n",
    "df.info()\n",
    "# We have 284,807 records and 31 columns\n",
    "\n",
    "# The Amount and Class columns correspond, with the former representing the transaction amount\n",
    "# and the latter indicating whether the transaction is fraudulent or legitimate.\n"
   ]
  },
  {
   "cell_type": "code",
   "execution_count": 4,
   "id": "32976bd2e7490a84",
   "metadata": {
    "ExecuteTime": {
     "end_time": "2024-04-11T00:09:39.548015500Z",
     "start_time": "2024-04-11T00:09:39.449884200Z"
    },
    "collapsed": false
   },
   "outputs": [
    {
     "data": {
      "text/html": [
       "<div>\n",
       "<style scoped>\n",
       "    .dataframe tbody tr th:only-of-type {\n",
       "        vertical-align: middle;\n",
       "    }\n",
       "\n",
       "    .dataframe tbody tr th {\n",
       "        vertical-align: top;\n",
       "    }\n",
       "\n",
       "    .dataframe thead th {\n",
       "        text-align: right;\n",
       "    }\n",
       "</style>\n",
       "<table border=\"1\" class=\"dataframe\">\n",
       "  <thead>\n",
       "    <tr style=\"text-align: right;\">\n",
       "      <th></th>\n",
       "      <th>Time</th>\n",
       "      <th>V1</th>\n",
       "      <th>V2</th>\n",
       "      <th>V3</th>\n",
       "      <th>V4</th>\n",
       "      <th>V5</th>\n",
       "      <th>V6</th>\n",
       "      <th>V7</th>\n",
       "      <th>V8</th>\n",
       "      <th>V9</th>\n",
       "      <th>...</th>\n",
       "      <th>V21</th>\n",
       "      <th>V22</th>\n",
       "      <th>V23</th>\n",
       "      <th>V24</th>\n",
       "      <th>V25</th>\n",
       "      <th>V26</th>\n",
       "      <th>V27</th>\n",
       "      <th>V28</th>\n",
       "      <th>Amount</th>\n",
       "      <th>Class</th>\n",
       "    </tr>\n",
       "  </thead>\n",
       "  <tbody>\n",
       "    <tr>\n",
       "      <th>68530</th>\n",
       "      <td>53033.0</td>\n",
       "      <td>1.379885</td>\n",
       "      <td>-1.255822</td>\n",
       "      <td>0.787657</td>\n",
       "      <td>-1.462413</td>\n",
       "      <td>-1.653056</td>\n",
       "      <td>-0.019421</td>\n",
       "      <td>-1.437882</td>\n",
       "      <td>0.161763</td>\n",
       "      <td>-1.800502</td>\n",
       "      <td>...</td>\n",
       "      <td>0.024293</td>\n",
       "      <td>0.426724</td>\n",
       "      <td>0.006104</td>\n",
       "      <td>-0.000172</td>\n",
       "      <td>0.217944</td>\n",
       "      <td>-0.091201</td>\n",
       "      <td>0.058857</td>\n",
       "      <td>0.015690</td>\n",
       "      <td>29.00</td>\n",
       "      <td>0</td>\n",
       "    </tr>\n",
       "    <tr>\n",
       "      <th>39162</th>\n",
       "      <td>39719.0</td>\n",
       "      <td>-0.633656</td>\n",
       "      <td>0.835545</td>\n",
       "      <td>1.421651</td>\n",
       "      <td>-0.107774</td>\n",
       "      <td>0.847008</td>\n",
       "      <td>0.882300</td>\n",
       "      <td>0.575105</td>\n",
       "      <td>0.243803</td>\n",
       "      <td>-0.227342</td>\n",
       "      <td>...</td>\n",
       "      <td>-0.157146</td>\n",
       "      <td>-0.100425</td>\n",
       "      <td>0.159276</td>\n",
       "      <td>-0.686394</td>\n",
       "      <td>-0.544056</td>\n",
       "      <td>0.140066</td>\n",
       "      <td>0.021366</td>\n",
       "      <td>-0.135082</td>\n",
       "      <td>9.12</td>\n",
       "      <td>0</td>\n",
       "    </tr>\n",
       "    <tr>\n",
       "      <th>147056</th>\n",
       "      <td>88074.0</td>\n",
       "      <td>-0.526318</td>\n",
       "      <td>0.773382</td>\n",
       "      <td>-0.602100</td>\n",
       "      <td>-1.949990</td>\n",
       "      <td>2.546830</td>\n",
       "      <td>3.643235</td>\n",
       "      <td>-0.209286</td>\n",
       "      <td>1.175782</td>\n",
       "      <td>0.591812</td>\n",
       "      <td>...</td>\n",
       "      <td>-0.314100</td>\n",
       "      <td>-0.772782</td>\n",
       "      <td>-0.009743</td>\n",
       "      <td>0.558807</td>\n",
       "      <td>-0.083246</td>\n",
       "      <td>-0.228194</td>\n",
       "      <td>0.413452</td>\n",
       "      <td>0.159704</td>\n",
       "      <td>0.77</td>\n",
       "      <td>0</td>\n",
       "    </tr>\n",
       "    <tr>\n",
       "      <th>55012</th>\n",
       "      <td>46729.0</td>\n",
       "      <td>1.008402</td>\n",
       "      <td>-0.367903</td>\n",
       "      <td>0.595150</td>\n",
       "      <td>0.438348</td>\n",
       "      <td>-0.153385</td>\n",
       "      <td>1.177549</td>\n",
       "      <td>-0.554720</td>\n",
       "      <td>0.516594</td>\n",
       "      <td>0.817214</td>\n",
       "      <td>...</td>\n",
       "      <td>0.019921</td>\n",
       "      <td>0.392801</td>\n",
       "      <td>0.108885</td>\n",
       "      <td>-0.572856</td>\n",
       "      <td>0.114232</td>\n",
       "      <td>0.753866</td>\n",
       "      <td>0.033500</td>\n",
       "      <td>-0.003199</td>\n",
       "      <td>16.44</td>\n",
       "      <td>0</td>\n",
       "    </tr>\n",
       "    <tr>\n",
       "      <th>200636</th>\n",
       "      <td>133513.0</td>\n",
       "      <td>2.046759</td>\n",
       "      <td>-0.216941</td>\n",
       "      <td>-1.237484</td>\n",
       "      <td>0.222837</td>\n",
       "      <td>-0.027526</td>\n",
       "      <td>-0.701281</td>\n",
       "      <td>-0.027750</td>\n",
       "      <td>-0.078644</td>\n",
       "      <td>0.532903</td>\n",
       "      <td>...</td>\n",
       "      <td>-0.280548</td>\n",
       "      <td>-0.779489</td>\n",
       "      <td>0.297779</td>\n",
       "      <td>-0.447133</td>\n",
       "      <td>-0.326369</td>\n",
       "      <td>0.207679</td>\n",
       "      <td>-0.084650</td>\n",
       "      <td>-0.077339</td>\n",
       "      <td>1.29</td>\n",
       "      <td>0</td>\n",
       "    </tr>\n",
       "    <tr>\n",
       "      <th>213837</th>\n",
       "      <td>139417.0</td>\n",
       "      <td>-2.689206</td>\n",
       "      <td>1.471223</td>\n",
       "      <td>0.458845</td>\n",
       "      <td>-1.760316</td>\n",
       "      <td>-0.960531</td>\n",
       "      <td>0.399789</td>\n",
       "      <td>-0.706364</td>\n",
       "      <td>1.204113</td>\n",
       "      <td>-0.739165</td>\n",
       "      <td>...</td>\n",
       "      <td>-0.637866</td>\n",
       "      <td>-1.250820</td>\n",
       "      <td>-0.087158</td>\n",
       "      <td>0.206180</td>\n",
       "      <td>0.506854</td>\n",
       "      <td>0.147420</td>\n",
       "      <td>0.539568</td>\n",
       "      <td>0.379779</td>\n",
       "      <td>33.00</td>\n",
       "      <td>0</td>\n",
       "    </tr>\n",
       "    <tr>\n",
       "      <th>193869</th>\n",
       "      <td>130330.0</td>\n",
       "      <td>-2.819951</td>\n",
       "      <td>2.792783</td>\n",
       "      <td>-0.648313</td>\n",
       "      <td>-0.826099</td>\n",
       "      <td>0.465269</td>\n",
       "      <td>0.407951</td>\n",
       "      <td>-2.594761</td>\n",
       "      <td>-8.763926</td>\n",
       "      <td>0.779905</td>\n",
       "      <td>...</td>\n",
       "      <td>8.296937</td>\n",
       "      <td>-3.276216</td>\n",
       "      <td>0.375002</td>\n",
       "      <td>-0.207027</td>\n",
       "      <td>-0.948859</td>\n",
       "      <td>0.192214</td>\n",
       "      <td>0.559972</td>\n",
       "      <td>0.330608</td>\n",
       "      <td>2.46</td>\n",
       "      <td>0</td>\n",
       "    </tr>\n",
       "    <tr>\n",
       "      <th>281849</th>\n",
       "      <td>170461.0</td>\n",
       "      <td>-0.394739</td>\n",
       "      <td>0.175767</td>\n",
       "      <td>0.038996</td>\n",
       "      <td>-1.973004</td>\n",
       "      <td>-0.349474</td>\n",
       "      <td>-0.571406</td>\n",
       "      <td>-0.495585</td>\n",
       "      <td>0.577060</td>\n",
       "      <td>-0.963769</td>\n",
       "      <td>...</td>\n",
       "      <td>0.351127</td>\n",
       "      <td>0.751462</td>\n",
       "      <td>-0.202245</td>\n",
       "      <td>-0.522984</td>\n",
       "      <td>0.144876</td>\n",
       "      <td>-0.167048</td>\n",
       "      <td>-0.135234</td>\n",
       "      <td>-0.112592</td>\n",
       "      <td>24.99</td>\n",
       "      <td>0</td>\n",
       "    </tr>\n",
       "    <tr>\n",
       "      <th>156515</th>\n",
       "      <td>108274.0</td>\n",
       "      <td>1.120538</td>\n",
       "      <td>-1.365748</td>\n",
       "      <td>-3.677820</td>\n",
       "      <td>0.706739</td>\n",
       "      <td>2.691907</td>\n",
       "      <td>3.252146</td>\n",
       "      <td>0.724075</td>\n",
       "      <td>0.375201</td>\n",
       "      <td>0.923431</td>\n",
       "      <td>...</td>\n",
       "      <td>0.263127</td>\n",
       "      <td>-0.103606</td>\n",
       "      <td>-0.390993</td>\n",
       "      <td>0.664675</td>\n",
       "      <td>0.308283</td>\n",
       "      <td>-0.553941</td>\n",
       "      <td>-0.131623</td>\n",
       "      <td>0.008292</td>\n",
       "      <td>491.10</td>\n",
       "      <td>0</td>\n",
       "    </tr>\n",
       "    <tr>\n",
       "      <th>103564</th>\n",
       "      <td>68714.0</td>\n",
       "      <td>1.025732</td>\n",
       "      <td>-0.290627</td>\n",
       "      <td>0.791371</td>\n",
       "      <td>0.892915</td>\n",
       "      <td>-0.575455</td>\n",
       "      <td>0.400860</td>\n",
       "      <td>-0.558411</td>\n",
       "      <td>0.223951</td>\n",
       "      <td>0.368115</td>\n",
       "      <td>...</td>\n",
       "      <td>0.167728</td>\n",
       "      <td>0.289144</td>\n",
       "      <td>-0.210753</td>\n",
       "      <td>-0.531243</td>\n",
       "      <td>0.396396</td>\n",
       "      <td>-0.336068</td>\n",
       "      <td>0.042497</td>\n",
       "      <td>0.037002</td>\n",
       "      <td>94.96</td>\n",
       "      <td>0</td>\n",
       "    </tr>\n",
       "  </tbody>\n",
       "</table>\n",
       "<p>10 rows × 31 columns</p>\n",
       "</div>"
      ],
      "text/plain": [
       "            Time        V1        V2        V3        V4        V5        V6  \\\n",
       "68530    53033.0  1.379885 -1.255822  0.787657 -1.462413 -1.653056 -0.019421   \n",
       "39162    39719.0 -0.633656  0.835545  1.421651 -0.107774  0.847008  0.882300   \n",
       "147056   88074.0 -0.526318  0.773382 -0.602100 -1.949990  2.546830  3.643235   \n",
       "55012    46729.0  1.008402 -0.367903  0.595150  0.438348 -0.153385  1.177549   \n",
       "200636  133513.0  2.046759 -0.216941 -1.237484  0.222837 -0.027526 -0.701281   \n",
       "213837  139417.0 -2.689206  1.471223  0.458845 -1.760316 -0.960531  0.399789   \n",
       "193869  130330.0 -2.819951  2.792783 -0.648313 -0.826099  0.465269  0.407951   \n",
       "281849  170461.0 -0.394739  0.175767  0.038996 -1.973004 -0.349474 -0.571406   \n",
       "156515  108274.0  1.120538 -1.365748 -3.677820  0.706739  2.691907  3.252146   \n",
       "103564   68714.0  1.025732 -0.290627  0.791371  0.892915 -0.575455  0.400860   \n",
       "\n",
       "              V7        V8        V9  ...       V21       V22       V23  \\\n",
       "68530  -1.437882  0.161763 -1.800502  ...  0.024293  0.426724  0.006104   \n",
       "39162   0.575105  0.243803 -0.227342  ... -0.157146 -0.100425  0.159276   \n",
       "147056 -0.209286  1.175782  0.591812  ... -0.314100 -0.772782 -0.009743   \n",
       "55012  -0.554720  0.516594  0.817214  ...  0.019921  0.392801  0.108885   \n",
       "200636 -0.027750 -0.078644  0.532903  ... -0.280548 -0.779489  0.297779   \n",
       "213837 -0.706364  1.204113 -0.739165  ... -0.637866 -1.250820 -0.087158   \n",
       "193869 -2.594761 -8.763926  0.779905  ...  8.296937 -3.276216  0.375002   \n",
       "281849 -0.495585  0.577060 -0.963769  ...  0.351127  0.751462 -0.202245   \n",
       "156515  0.724075  0.375201  0.923431  ...  0.263127 -0.103606 -0.390993   \n",
       "103564 -0.558411  0.223951  0.368115  ...  0.167728  0.289144 -0.210753   \n",
       "\n",
       "             V24       V25       V26       V27       V28  Amount  Class  \n",
       "68530  -0.000172  0.217944 -0.091201  0.058857  0.015690   29.00      0  \n",
       "39162  -0.686394 -0.544056  0.140066  0.021366 -0.135082    9.12      0  \n",
       "147056  0.558807 -0.083246 -0.228194  0.413452  0.159704    0.77      0  \n",
       "55012  -0.572856  0.114232  0.753866  0.033500 -0.003199   16.44      0  \n",
       "200636 -0.447133 -0.326369  0.207679 -0.084650 -0.077339    1.29      0  \n",
       "213837  0.206180  0.506854  0.147420  0.539568  0.379779   33.00      0  \n",
       "193869 -0.207027 -0.948859  0.192214  0.559972  0.330608    2.46      0  \n",
       "281849 -0.522984  0.144876 -0.167048 -0.135234 -0.112592   24.99      0  \n",
       "156515  0.664675  0.308283 -0.553941 -0.131623  0.008292  491.10      0  \n",
       "103564 -0.531243  0.396396 -0.336068  0.042497  0.037002   94.96      0  \n",
       "\n",
       "[10 rows x 31 columns]"
      ]
     },
     "execution_count": 4,
     "metadata": {},
     "output_type": "execute_result"
    }
   ],
   "source": [
    "# Glance a sample of the dataset\n",
    "df.sample(10)\n",
    "# Given the dataset description we know that the columns named \"V1 ... \" are already scaled,\n",
    "# and we don't know what they are due to privacy reasons"
   ]
  },
  {
   "cell_type": "code",
   "execution_count": 5,
   "id": "1de96fdefebd28f5",
   "metadata": {
    "ExecuteTime": {
     "end_time": "2024-04-11T00:09:39.665090900Z",
     "start_time": "2024-04-11T00:09:39.530272700Z"
    },
    "collapsed": false
   },
   "outputs": [
    {
     "name": "stdout",
     "output_type": "stream",
     "text": [
      "int64\n",
      "category\n"
     ]
    }
   ],
   "source": [
    "print(df.Class.dtype)\n",
    "\n",
    "# Let's change Class column to a category one\n",
    "df[\"Class\"] = df[\"Class\"].astype(\"category\")\n",
    "\n",
    "# Review the change\n",
    "print(df.Class.dtype)"
   ]
  },
  {
   "cell_type": "code",
   "execution_count": 6,
   "id": "87d1b9585d27356d",
   "metadata": {
    "ExecuteTime": {
     "end_time": "2024-04-11T00:09:40.588151900Z",
     "start_time": "2024-04-11T00:09:39.554021800Z"
    },
    "collapsed": false
   },
   "outputs": [
    {
     "data": {
      "text/html": [
       "<div>\n",
       "<style scoped>\n",
       "    .dataframe tbody tr th:only-of-type {\n",
       "        vertical-align: middle;\n",
       "    }\n",
       "\n",
       "    .dataframe tbody tr th {\n",
       "        vertical-align: top;\n",
       "    }\n",
       "\n",
       "    .dataframe thead th {\n",
       "        text-align: right;\n",
       "    }\n",
       "</style>\n",
       "<table border=\"1\" class=\"dataframe\">\n",
       "  <thead>\n",
       "    <tr style=\"text-align: right;\">\n",
       "      <th></th>\n",
       "      <th>Time</th>\n",
       "      <th>V1</th>\n",
       "      <th>V2</th>\n",
       "      <th>V3</th>\n",
       "      <th>V4</th>\n",
       "      <th>V5</th>\n",
       "      <th>V6</th>\n",
       "      <th>V7</th>\n",
       "      <th>V8</th>\n",
       "      <th>V9</th>\n",
       "      <th>...</th>\n",
       "      <th>V20</th>\n",
       "      <th>V21</th>\n",
       "      <th>V22</th>\n",
       "      <th>V23</th>\n",
       "      <th>V24</th>\n",
       "      <th>V25</th>\n",
       "      <th>V26</th>\n",
       "      <th>V27</th>\n",
       "      <th>V28</th>\n",
       "      <th>Amount</th>\n",
       "    </tr>\n",
       "  </thead>\n",
       "  <tbody>\n",
       "    <tr>\n",
       "      <th>count</th>\n",
       "      <td>284807.000000</td>\n",
       "      <td>2.848070e+05</td>\n",
       "      <td>2.848070e+05</td>\n",
       "      <td>2.848070e+05</td>\n",
       "      <td>2.848070e+05</td>\n",
       "      <td>2.848070e+05</td>\n",
       "      <td>2.848070e+05</td>\n",
       "      <td>2.848070e+05</td>\n",
       "      <td>2.848070e+05</td>\n",
       "      <td>2.848070e+05</td>\n",
       "      <td>...</td>\n",
       "      <td>2.848070e+05</td>\n",
       "      <td>2.848070e+05</td>\n",
       "      <td>2.848070e+05</td>\n",
       "      <td>2.848070e+05</td>\n",
       "      <td>2.848070e+05</td>\n",
       "      <td>2.848070e+05</td>\n",
       "      <td>2.848070e+05</td>\n",
       "      <td>2.848070e+05</td>\n",
       "      <td>2.848070e+05</td>\n",
       "      <td>284807.000000</td>\n",
       "    </tr>\n",
       "    <tr>\n",
       "      <th>mean</th>\n",
       "      <td>94813.859575</td>\n",
       "      <td>1.168375e-15</td>\n",
       "      <td>3.416908e-16</td>\n",
       "      <td>-1.379537e-15</td>\n",
       "      <td>2.074095e-15</td>\n",
       "      <td>9.604066e-16</td>\n",
       "      <td>1.487313e-15</td>\n",
       "      <td>-5.556467e-16</td>\n",
       "      <td>1.213481e-16</td>\n",
       "      <td>-2.406331e-15</td>\n",
       "      <td>...</td>\n",
       "      <td>6.406204e-16</td>\n",
       "      <td>1.654067e-16</td>\n",
       "      <td>-3.568593e-16</td>\n",
       "      <td>2.578648e-16</td>\n",
       "      <td>4.473266e-15</td>\n",
       "      <td>5.340915e-16</td>\n",
       "      <td>1.683437e-15</td>\n",
       "      <td>-3.660091e-16</td>\n",
       "      <td>-1.227390e-16</td>\n",
       "      <td>88.349619</td>\n",
       "    </tr>\n",
       "    <tr>\n",
       "      <th>std</th>\n",
       "      <td>47488.145955</td>\n",
       "      <td>1.958696e+00</td>\n",
       "      <td>1.651309e+00</td>\n",
       "      <td>1.516255e+00</td>\n",
       "      <td>1.415869e+00</td>\n",
       "      <td>1.380247e+00</td>\n",
       "      <td>1.332271e+00</td>\n",
       "      <td>1.237094e+00</td>\n",
       "      <td>1.194353e+00</td>\n",
       "      <td>1.098632e+00</td>\n",
       "      <td>...</td>\n",
       "      <td>7.709250e-01</td>\n",
       "      <td>7.345240e-01</td>\n",
       "      <td>7.257016e-01</td>\n",
       "      <td>6.244603e-01</td>\n",
       "      <td>6.056471e-01</td>\n",
       "      <td>5.212781e-01</td>\n",
       "      <td>4.822270e-01</td>\n",
       "      <td>4.036325e-01</td>\n",
       "      <td>3.300833e-01</td>\n",
       "      <td>250.120109</td>\n",
       "    </tr>\n",
       "    <tr>\n",
       "      <th>min</th>\n",
       "      <td>0.000000</td>\n",
       "      <td>-5.640751e+01</td>\n",
       "      <td>-7.271573e+01</td>\n",
       "      <td>-4.832559e+01</td>\n",
       "      <td>-5.683171e+00</td>\n",
       "      <td>-1.137433e+02</td>\n",
       "      <td>-2.616051e+01</td>\n",
       "      <td>-4.355724e+01</td>\n",
       "      <td>-7.321672e+01</td>\n",
       "      <td>-1.343407e+01</td>\n",
       "      <td>...</td>\n",
       "      <td>-5.449772e+01</td>\n",
       "      <td>-3.483038e+01</td>\n",
       "      <td>-1.093314e+01</td>\n",
       "      <td>-4.480774e+01</td>\n",
       "      <td>-2.836627e+00</td>\n",
       "      <td>-1.029540e+01</td>\n",
       "      <td>-2.604551e+00</td>\n",
       "      <td>-2.256568e+01</td>\n",
       "      <td>-1.543008e+01</td>\n",
       "      <td>0.000000</td>\n",
       "    </tr>\n",
       "    <tr>\n",
       "      <th>25%</th>\n",
       "      <td>54201.500000</td>\n",
       "      <td>-9.203734e-01</td>\n",
       "      <td>-5.985499e-01</td>\n",
       "      <td>-8.903648e-01</td>\n",
       "      <td>-8.486401e-01</td>\n",
       "      <td>-6.915971e-01</td>\n",
       "      <td>-7.682956e-01</td>\n",
       "      <td>-5.540759e-01</td>\n",
       "      <td>-2.086297e-01</td>\n",
       "      <td>-6.430976e-01</td>\n",
       "      <td>...</td>\n",
       "      <td>-2.117214e-01</td>\n",
       "      <td>-2.283949e-01</td>\n",
       "      <td>-5.423504e-01</td>\n",
       "      <td>-1.618463e-01</td>\n",
       "      <td>-3.545861e-01</td>\n",
       "      <td>-3.171451e-01</td>\n",
       "      <td>-3.269839e-01</td>\n",
       "      <td>-7.083953e-02</td>\n",
       "      <td>-5.295979e-02</td>\n",
       "      <td>5.600000</td>\n",
       "    </tr>\n",
       "    <tr>\n",
       "      <th>50%</th>\n",
       "      <td>84692.000000</td>\n",
       "      <td>1.810880e-02</td>\n",
       "      <td>6.548556e-02</td>\n",
       "      <td>1.798463e-01</td>\n",
       "      <td>-1.984653e-02</td>\n",
       "      <td>-5.433583e-02</td>\n",
       "      <td>-2.741871e-01</td>\n",
       "      <td>4.010308e-02</td>\n",
       "      <td>2.235804e-02</td>\n",
       "      <td>-5.142873e-02</td>\n",
       "      <td>...</td>\n",
       "      <td>-6.248109e-02</td>\n",
       "      <td>-2.945017e-02</td>\n",
       "      <td>6.781943e-03</td>\n",
       "      <td>-1.119293e-02</td>\n",
       "      <td>4.097606e-02</td>\n",
       "      <td>1.659350e-02</td>\n",
       "      <td>-5.213911e-02</td>\n",
       "      <td>1.342146e-03</td>\n",
       "      <td>1.124383e-02</td>\n",
       "      <td>22.000000</td>\n",
       "    </tr>\n",
       "    <tr>\n",
       "      <th>75%</th>\n",
       "      <td>139320.500000</td>\n",
       "      <td>1.315642e+00</td>\n",
       "      <td>8.037239e-01</td>\n",
       "      <td>1.027196e+00</td>\n",
       "      <td>7.433413e-01</td>\n",
       "      <td>6.119264e-01</td>\n",
       "      <td>3.985649e-01</td>\n",
       "      <td>5.704361e-01</td>\n",
       "      <td>3.273459e-01</td>\n",
       "      <td>5.971390e-01</td>\n",
       "      <td>...</td>\n",
       "      <td>1.330408e-01</td>\n",
       "      <td>1.863772e-01</td>\n",
       "      <td>5.285536e-01</td>\n",
       "      <td>1.476421e-01</td>\n",
       "      <td>4.395266e-01</td>\n",
       "      <td>3.507156e-01</td>\n",
       "      <td>2.409522e-01</td>\n",
       "      <td>9.104512e-02</td>\n",
       "      <td>7.827995e-02</td>\n",
       "      <td>77.165000</td>\n",
       "    </tr>\n",
       "    <tr>\n",
       "      <th>max</th>\n",
       "      <td>172792.000000</td>\n",
       "      <td>2.454930e+00</td>\n",
       "      <td>2.205773e+01</td>\n",
       "      <td>9.382558e+00</td>\n",
       "      <td>1.687534e+01</td>\n",
       "      <td>3.480167e+01</td>\n",
       "      <td>7.330163e+01</td>\n",
       "      <td>1.205895e+02</td>\n",
       "      <td>2.000721e+01</td>\n",
       "      <td>1.559499e+01</td>\n",
       "      <td>...</td>\n",
       "      <td>3.942090e+01</td>\n",
       "      <td>2.720284e+01</td>\n",
       "      <td>1.050309e+01</td>\n",
       "      <td>2.252841e+01</td>\n",
       "      <td>4.584549e+00</td>\n",
       "      <td>7.519589e+00</td>\n",
       "      <td>3.517346e+00</td>\n",
       "      <td>3.161220e+01</td>\n",
       "      <td>3.384781e+01</td>\n",
       "      <td>25691.160000</td>\n",
       "    </tr>\n",
       "  </tbody>\n",
       "</table>\n",
       "<p>8 rows × 30 columns</p>\n",
       "</div>"
      ],
      "text/plain": [
       "                Time            V1            V2            V3            V4  \\\n",
       "count  284807.000000  2.848070e+05  2.848070e+05  2.848070e+05  2.848070e+05   \n",
       "mean    94813.859575  1.168375e-15  3.416908e-16 -1.379537e-15  2.074095e-15   \n",
       "std     47488.145955  1.958696e+00  1.651309e+00  1.516255e+00  1.415869e+00   \n",
       "min         0.000000 -5.640751e+01 -7.271573e+01 -4.832559e+01 -5.683171e+00   \n",
       "25%     54201.500000 -9.203734e-01 -5.985499e-01 -8.903648e-01 -8.486401e-01   \n",
       "50%     84692.000000  1.810880e-02  6.548556e-02  1.798463e-01 -1.984653e-02   \n",
       "75%    139320.500000  1.315642e+00  8.037239e-01  1.027196e+00  7.433413e-01   \n",
       "max    172792.000000  2.454930e+00  2.205773e+01  9.382558e+00  1.687534e+01   \n",
       "\n",
       "                 V5            V6            V7            V8            V9  \\\n",
       "count  2.848070e+05  2.848070e+05  2.848070e+05  2.848070e+05  2.848070e+05   \n",
       "mean   9.604066e-16  1.487313e-15 -5.556467e-16  1.213481e-16 -2.406331e-15   \n",
       "std    1.380247e+00  1.332271e+00  1.237094e+00  1.194353e+00  1.098632e+00   \n",
       "min   -1.137433e+02 -2.616051e+01 -4.355724e+01 -7.321672e+01 -1.343407e+01   \n",
       "25%   -6.915971e-01 -7.682956e-01 -5.540759e-01 -2.086297e-01 -6.430976e-01   \n",
       "50%   -5.433583e-02 -2.741871e-01  4.010308e-02  2.235804e-02 -5.142873e-02   \n",
       "75%    6.119264e-01  3.985649e-01  5.704361e-01  3.273459e-01  5.971390e-01   \n",
       "max    3.480167e+01  7.330163e+01  1.205895e+02  2.000721e+01  1.559499e+01   \n",
       "\n",
       "       ...           V20           V21           V22           V23  \\\n",
       "count  ...  2.848070e+05  2.848070e+05  2.848070e+05  2.848070e+05   \n",
       "mean   ...  6.406204e-16  1.654067e-16 -3.568593e-16  2.578648e-16   \n",
       "std    ...  7.709250e-01  7.345240e-01  7.257016e-01  6.244603e-01   \n",
       "min    ... -5.449772e+01 -3.483038e+01 -1.093314e+01 -4.480774e+01   \n",
       "25%    ... -2.117214e-01 -2.283949e-01 -5.423504e-01 -1.618463e-01   \n",
       "50%    ... -6.248109e-02 -2.945017e-02  6.781943e-03 -1.119293e-02   \n",
       "75%    ...  1.330408e-01  1.863772e-01  5.285536e-01  1.476421e-01   \n",
       "max    ...  3.942090e+01  2.720284e+01  1.050309e+01  2.252841e+01   \n",
       "\n",
       "                V24           V25           V26           V27           V28  \\\n",
       "count  2.848070e+05  2.848070e+05  2.848070e+05  2.848070e+05  2.848070e+05   \n",
       "mean   4.473266e-15  5.340915e-16  1.683437e-15 -3.660091e-16 -1.227390e-16   \n",
       "std    6.056471e-01  5.212781e-01  4.822270e-01  4.036325e-01  3.300833e-01   \n",
       "min   -2.836627e+00 -1.029540e+01 -2.604551e+00 -2.256568e+01 -1.543008e+01   \n",
       "25%   -3.545861e-01 -3.171451e-01 -3.269839e-01 -7.083953e-02 -5.295979e-02   \n",
       "50%    4.097606e-02  1.659350e-02 -5.213911e-02  1.342146e-03  1.124383e-02   \n",
       "75%    4.395266e-01  3.507156e-01  2.409522e-01  9.104512e-02  7.827995e-02   \n",
       "max    4.584549e+00  7.519589e+00  3.517346e+00  3.161220e+01  3.384781e+01   \n",
       "\n",
       "              Amount  \n",
       "count  284807.000000  \n",
       "mean       88.349619  \n",
       "std       250.120109  \n",
       "min         0.000000  \n",
       "25%         5.600000  \n",
       "50%        22.000000  \n",
       "75%        77.165000  \n",
       "max     25691.160000  \n",
       "\n",
       "[8 rows x 30 columns]"
      ]
     },
     "execution_count": 6,
     "metadata": {},
     "output_type": "execute_result"
    }
   ],
   "source": [
    "# Explore the dataset by checking its descriptive statistics\n",
    "df.describe()\n",
    "# We can see that the mean of the transactions is very small (88 usd)"
   ]
  },
  {
   "cell_type": "code",
   "execution_count": 7,
   "id": "4279ccfd790dc1db",
   "metadata": {
    "ExecuteTime": {
     "end_time": "2024-04-11T00:09:40.782080400Z",
     "start_time": "2024-04-11T00:09:40.580943700Z"
    },
    "collapsed": false
   },
   "outputs": [
    {
     "data": {
      "text/plain": [
       "Time      0\n",
       "V1        0\n",
       "V2        0\n",
       "V3        0\n",
       "V4        0\n",
       "V5        0\n",
       "V6        0\n",
       "V7        0\n",
       "V8        0\n",
       "V9        0\n",
       "V10       0\n",
       "V11       0\n",
       "V12       0\n",
       "V13       0\n",
       "V14       0\n",
       "V15       0\n",
       "V16       0\n",
       "V17       0\n",
       "V18       0\n",
       "V19       0\n",
       "V20       0\n",
       "V21       0\n",
       "V22       0\n",
       "V23       0\n",
       "V24       0\n",
       "V25       0\n",
       "V26       0\n",
       "V27       0\n",
       "V28       0\n",
       "Amount    0\n",
       "Class     0\n",
       "dtype: int64"
      ]
     },
     "execution_count": 7,
     "metadata": {},
     "output_type": "execute_result"
    }
   ],
   "source": [
    "# Check how many NANs we have\n",
    "df.isna().sum()\n",
    "\n",
    "# NICE! we don't have NAN's"
   ]
  },
  {
   "cell_type": "code",
   "execution_count": 8,
   "id": "efb40465714e9576",
   "metadata": {
    "ExecuteTime": {
     "end_time": "2024-04-11T00:09:40.926904200Z",
     "start_time": "2024-04-11T00:09:40.663565800Z"
    },
    "collapsed": false
   },
   "outputs": [
    {
     "name": "stdout",
     "output_type": "stream",
     "text": [
      "Class\n",
      "0    284315\n",
      "1       492\n",
      "Name: count, dtype: int64\n",
      "\n",
      "Percentage of frauds = 0.17 %\n",
      "Percentage of legitimate = 99.83 %\n"
     ]
    }
   ],
   "source": [
    "# Now let's check the balance in the class column:\n",
    "distribution_series = df.Class.value_counts()\n",
    "print(distribution_series)\n",
    "\n",
    "# We just have 492 fraud records\n",
    "# Generate a percentage of the distribution\n",
    "frauds = distribution_series[distribution_series.index == 1].values[0]\n",
    "legitimate = distribution_series[distribution_series.index == 0].values[0]\n",
    "total = frauds + legitimate\n",
    "print(\"\\nPercentage of frauds =\", round(frauds/total*100,2), \"%\")\n",
    "print(\"Percentage of legitimate =\", round(legitimate/total*100,2),\"%\")"
   ]
  },
  {
   "cell_type": "code",
   "execution_count": 9,
   "id": "8b4f5243fac817b3",
   "metadata": {
    "ExecuteTime": {
     "end_time": "2024-04-11T00:09:41.247426200Z",
     "start_time": "2024-04-11T00:09:40.706078100Z"
    },
    "collapsed": false
   },
   "outputs": [
    {
     "data": {
      "image/png": "[encoded data removed]",
      "text/plain": [
       "<Figure size 640x480 with 1 Axes>"
      ]
     },
     "metadata": {},
     "output_type": "display_data"
    }
   ],
   "source": [
    "fig, ax = plt.subplots()\n",
    "ax.pie(distribution_series, labels=[\"legit\",\"fraud\"], autopct='%1.2f%%')\n",
    "ax.set_title('Pie chart of credit card transactions')\n",
    "plt.show()"
   ]
  },
  {
   "cell_type": "code",
   "execution_count": 10,
   "id": "6aabc6711dd3853a",
   "metadata": {
    "ExecuteTime": {
     "end_time": "2024-04-11T00:09:41.658262100Z",
     "start_time": "2024-04-11T00:09:41.128458500Z"
    },
    "collapsed": false
   },
   "outputs": [
    {
     "data": {
      "image/png": "[encoded data removed]",
      "text/plain": [
       "<Figure size 640x480 with 1 Axes>"
      ]
     },
     "metadata": {},
     "output_type": "display_data"
    }
   ],
   "source": [
    "sns.boxplot(data=df,x=\"Amount\",showfliers=False)\n",
    "plt.title(\"Distribution of Amount column without outliers\")\n",
    "plt.show()"
   ]
  },
  {
   "cell_type": "code",
   "execution_count": 11,
   "id": "412fe36fd1b3267c",
   "metadata": {
    "ExecuteTime": {
     "end_time": "2024-04-11T00:09:42.188489300Z",
     "start_time": "2024-04-11T00:09:41.668262900Z"
    },
    "collapsed": false
   },
   "outputs": [
    {
     "data": {
      "image/png": "[encoded data removed]",
      "text/plain": [
       "<Figure size 640x480 with 1 Axes>"
      ]
     },
     "metadata": {},
     "output_type": "display_data"
    }
   ],
   "source": [
    "sns.boxplot(data=df,x=\"Amount\",showfliers=True)\n",
    "plt.title(\"Distribution of Amount column with outliers\")\n",
    "plt.show()"
   ]
  },
  {
   "cell_type": "code",
   "execution_count": 12,
   "id": "ac1d09bb3ec48e3c",
   "metadata": {
    "ExecuteTime": {
     "end_time": "2024-04-11T00:09:43.062790600Z",
     "start_time": "2024-04-11T00:09:42.207488Z"
    },
    "collapsed": false
   },
   "outputs": [
    {
     "data": {
      "image/png": "[encoded data removed]",
      "text/plain": [
       "<Figure size 640x480 with 1 Axes>"
      ]
     },
     "metadata": {},
     "output_type": "display_data"
    }
   ],
   "source": [
    "sns.histplot(data=df,x=\"Time\")\n",
    "plt.title(\"Distribution of Time\")\n",
    "plt.show()"
   ]
  },
  {
   "cell_type": "markdown",
   "id": "43d8995ec6307e1",
   "metadata": {
    "collapsed": false
   },
   "source": []
  },
  {
   "cell_type": "markdown",
   "id": "b4bd99fa157c4afe",
   "metadata": {
    "collapsed": false
   },
   "source": [
    "# Scaling Time and Amount columns"
   ]
  },
  {
   "cell_type": "code",
   "execution_count": 13,
   "id": "c3c1a83a2a148a9b",
   "metadata": {
    "ExecuteTime": {
     "end_time": "2024-04-11T00:09:43.190279600Z",
     "start_time": "2024-04-11T00:09:43.069791200Z"
    },
    "collapsed": false
   },
   "outputs": [],
   "source": [
    "from sklearn.preprocessing import StandardScaler, RobustScaler\n",
    "\n",
    "# RobustScaler is less prone to outliers\n",
    "scaler = RobustScaler()\n",
    "\n",
    "df[\"scaled_amount\"] = scaler.fit_transform(df[\"Amount\"].values.reshape(-1,1))\n",
    "df[\"scaled_time\"] = scaler.fit_transform(df[\"Time\"].values.reshape(-1,1))\n",
    "\n",
    "# drop the unscaled columns:\n",
    "df.drop(['Time','Amount'], axis=1, inplace=True)\n"
   ]
  },
  {
   "cell_type": "code",
   "execution_count": 14,
   "id": "8dda4754872410e5",
   "metadata": {
    "ExecuteTime": {
     "end_time": "2024-04-11T00:09:43.259573300Z",
     "start_time": "2024-04-11T00:09:43.179283800Z"
    },
    "collapsed": false
   },
   "outputs": [
    {
     "data": {
      "text/html": [
       "<div>\n",
       "<style scoped>\n",
       "    .dataframe tbody tr th:only-of-type {\n",
       "        vertical-align: middle;\n",
       "    }\n",
       "\n",
       "    .dataframe tbody tr th {\n",
       "        vertical-align: top;\n",
       "    }\n",
       "\n",
       "    .dataframe thead th {\n",
       "        text-align: right;\n",
       "    }\n",
       "</style>\n",
       "<table border=\"1\" class=\"dataframe\">\n",
       "  <thead>\n",
       "    <tr style=\"text-align: right;\">\n",
       "      <th></th>\n",
       "      <th>V1</th>\n",
       "      <th>V2</th>\n",
       "      <th>V3</th>\n",
       "      <th>V4</th>\n",
       "      <th>V5</th>\n",
       "      <th>V6</th>\n",
       "      <th>V7</th>\n",
       "      <th>V8</th>\n",
       "      <th>V9</th>\n",
       "      <th>V10</th>\n",
       "      <th>...</th>\n",
       "      <th>V22</th>\n",
       "      <th>V23</th>\n",
       "      <th>V24</th>\n",
       "      <th>V25</th>\n",
       "      <th>V26</th>\n",
       "      <th>V27</th>\n",
       "      <th>V28</th>\n",
       "      <th>Class</th>\n",
       "      <th>scaled_amount</th>\n",
       "      <th>scaled_time</th>\n",
       "    </tr>\n",
       "  </thead>\n",
       "  <tbody>\n",
       "    <tr>\n",
       "      <th>0</th>\n",
       "      <td>-1.359807</td>\n",
       "      <td>-0.072781</td>\n",
       "      <td>2.536347</td>\n",
       "      <td>1.378155</td>\n",
       "      <td>-0.338321</td>\n",
       "      <td>0.462388</td>\n",
       "      <td>0.239599</td>\n",
       "      <td>0.098698</td>\n",
       "      <td>0.363787</td>\n",
       "      <td>0.090794</td>\n",
       "      <td>...</td>\n",
       "      <td>0.277838</td>\n",
       "      <td>-0.110474</td>\n",
       "      <td>0.066928</td>\n",
       "      <td>0.128539</td>\n",
       "      <td>-0.189115</td>\n",
       "      <td>0.133558</td>\n",
       "      <td>-0.021053</td>\n",
       "      <td>0</td>\n",
       "      <td>1.783274</td>\n",
       "      <td>-0.994983</td>\n",
       "    </tr>\n",
       "    <tr>\n",
       "      <th>1</th>\n",
       "      <td>1.191857</td>\n",
       "      <td>0.266151</td>\n",
       "      <td>0.166480</td>\n",
       "      <td>0.448154</td>\n",
       "      <td>0.060018</td>\n",
       "      <td>-0.082361</td>\n",
       "      <td>-0.078803</td>\n",
       "      <td>0.085102</td>\n",
       "      <td>-0.255425</td>\n",
       "      <td>-0.166974</td>\n",
       "      <td>...</td>\n",
       "      <td>-0.638672</td>\n",
       "      <td>0.101288</td>\n",
       "      <td>-0.339846</td>\n",
       "      <td>0.167170</td>\n",
       "      <td>0.125895</td>\n",
       "      <td>-0.008983</td>\n",
       "      <td>0.014724</td>\n",
       "      <td>0</td>\n",
       "      <td>-0.269825</td>\n",
       "      <td>-0.994983</td>\n",
       "    </tr>\n",
       "    <tr>\n",
       "      <th>2</th>\n",
       "      <td>-1.358354</td>\n",
       "      <td>-1.340163</td>\n",
       "      <td>1.773209</td>\n",
       "      <td>0.379780</td>\n",
       "      <td>-0.503198</td>\n",
       "      <td>1.800499</td>\n",
       "      <td>0.791461</td>\n",
       "      <td>0.247676</td>\n",
       "      <td>-1.514654</td>\n",
       "      <td>0.207643</td>\n",
       "      <td>...</td>\n",
       "      <td>0.771679</td>\n",
       "      <td>0.909412</td>\n",
       "      <td>-0.689281</td>\n",
       "      <td>-0.327642</td>\n",
       "      <td>-0.139097</td>\n",
       "      <td>-0.055353</td>\n",
       "      <td>-0.059752</td>\n",
       "      <td>0</td>\n",
       "      <td>4.983721</td>\n",
       "      <td>-0.994972</td>\n",
       "    </tr>\n",
       "    <tr>\n",
       "      <th>3</th>\n",
       "      <td>-0.966272</td>\n",
       "      <td>-0.185226</td>\n",
       "      <td>1.792993</td>\n",
       "      <td>-0.863291</td>\n",
       "      <td>-0.010309</td>\n",
       "      <td>1.247203</td>\n",
       "      <td>0.237609</td>\n",
       "      <td>0.377436</td>\n",
       "      <td>-1.387024</td>\n",
       "      <td>-0.054952</td>\n",
       "      <td>...</td>\n",
       "      <td>0.005274</td>\n",
       "      <td>-0.190321</td>\n",
       "      <td>-1.175575</td>\n",
       "      <td>0.647376</td>\n",
       "      <td>-0.221929</td>\n",
       "      <td>0.062723</td>\n",
       "      <td>0.061458</td>\n",
       "      <td>0</td>\n",
       "      <td>1.418291</td>\n",
       "      <td>-0.994972</td>\n",
       "    </tr>\n",
       "    <tr>\n",
       "      <th>4</th>\n",
       "      <td>-1.158233</td>\n",
       "      <td>0.877737</td>\n",
       "      <td>1.548718</td>\n",
       "      <td>0.403034</td>\n",
       "      <td>-0.407193</td>\n",
       "      <td>0.095921</td>\n",
       "      <td>0.592941</td>\n",
       "      <td>-0.270533</td>\n",
       "      <td>0.817739</td>\n",
       "      <td>0.753074</td>\n",
       "      <td>...</td>\n",
       "      <td>0.798278</td>\n",
       "      <td>-0.137458</td>\n",
       "      <td>0.141267</td>\n",
       "      <td>-0.206010</td>\n",
       "      <td>0.502292</td>\n",
       "      <td>0.219422</td>\n",
       "      <td>0.215153</td>\n",
       "      <td>0</td>\n",
       "      <td>0.670579</td>\n",
       "      <td>-0.994960</td>\n",
       "    </tr>\n",
       "  </tbody>\n",
       "</table>\n",
       "<p>5 rows × 31 columns</p>\n",
       "</div>"
      ],
      "text/plain": [
       "         V1        V2        V3        V4        V5        V6        V7  \\\n",
       "0 -1.359807 -0.072781  2.536347  1.378155 -0.338321  0.462388  0.239599   \n",
       "1  1.191857  0.266151  0.166480  0.448154  0.060018 -0.082361 -0.078803   \n",
       "2 -1.358354 -1.340163  1.773209  0.379780 -0.503198  1.800499  0.791461   \n",
       "3 -0.966272 -0.185226  1.792993 -0.863291 -0.010309  1.247203  0.237609   \n",
       "4 -1.158233  0.877737  1.548718  0.403034 -0.407193  0.095921  0.592941   \n",
       "\n",
       "         V8        V9       V10  ...       V22       V23       V24       V25  \\\n",
       "0  0.098698  0.363787  0.090794  ...  0.277838 -0.110474  0.066928  0.128539   \n",
       "1  0.085102 -0.255425 -0.166974  ... -0.638672  0.101288 -0.339846  0.167170   \n",
       "2  0.247676 -1.514654  0.207643  ...  0.771679  0.909412 -0.689281 -0.327642   \n",
       "3  0.377436 -1.387024 -0.054952  ...  0.005274 -0.190321 -1.175575  0.647376   \n",
       "4 -0.270533  0.817739  0.753074  ...  0.798278 -0.137458  0.141267 -0.206010   \n",
       "\n",
       "        V26       V27       V28  Class  scaled_amount  scaled_time  \n",
       "0 -0.189115  0.133558 -0.021053      0       1.783274    -0.994983  \n",
       "1  0.125895 -0.008983  0.014724      0      -0.269825    -0.994983  \n",
       "2 -0.139097 -0.055353 -0.059752      0       4.983721    -0.994972  \n",
       "3 -0.221929  0.062723  0.061458      0       1.418291    -0.994972  \n",
       "4  0.502292  0.219422  0.215153      0       0.670579    -0.994960  \n",
       "\n",
       "[5 rows x 31 columns]"
      ]
     },
     "execution_count": 14,
     "metadata": {},
     "output_type": "execute_result"
    }
   ],
   "source": [
    "df.head()"
   ]
  },
  {
   "cell_type": "markdown",
   "id": "634a06ffde3e283a",
   "metadata": {
    "collapsed": false
   },
   "source": [
    "# Splitting the data"
   ]
  },
  {
   "cell_type": "markdown",
   "id": "b8c30bac91258833",
   "metadata": {
    "collapsed": false
   },
   "source": [
    "Under-sampling is a technique used to deal with imbalanced datasets, which are common in many real-world problems such as fraud detection, medical diagnosis, and others where one class significantly outnumbers the other(s). In an imbalanced dataset, the majority class has a much higher number of instances than the minority class, which can lead to machine learning models being biased towards the majority class and not performing well on the minority class."
   ]
  },
  {
   "cell_type": "code",
   "execution_count": 15,
   "id": "e0bbe5d98906582c",
   "metadata": {
    "ExecuteTime": {
     "end_time": "2024-04-11T00:09:43.569083900Z",
     "start_time": "2024-04-11T00:09:43.235765800Z"
    },
    "collapsed": false
   },
   "outputs": [],
   "source": [
    "df1 = df.copy()\n",
    "\n",
    "y = df.pop(\"Class\")\n",
    "X = df"
   ]
  },
  {
   "cell_type": "code",
   "execution_count": 16,
   "id": "a5c10ec79e8454f8",
   "metadata": {
    "ExecuteTime": {
     "end_time": "2024-04-11T00:09:43.636452Z",
     "start_time": "2024-04-11T00:09:43.397090200Z"
    },
    "collapsed": false
   },
   "outputs": [
    {
     "name": "stdout",
     "output_type": "stream",
     "text": [
      "Number of frauds records: 492\n",
      "Now we have the same number of frauds and good transactions, in total: 984 records\n"
     ]
    }
   ],
   "source": [
    "print(f\"Number of frauds records: {frauds}\") #This is the number of frauds records\n",
    "# Pick the indices of the fraud transactions:\n",
    "fraud_index = df1[df1.Class == 1].index\n",
    "# Pick the indices of the legitimate transactions:\n",
    "legitimate_index = df1[df1.Class == 0].index\n",
    "\n",
    "# We randomly select n number of legitimate transactions\n",
    "random_legitimate_index = np.random.choice(legitimate_index, frauds, replace=False)\n",
    "\n",
    "# Combine both indices\n",
    "under_sampling_index = np.concatenate([random_legitimate_index, fraud_index])\n",
    "print(f\"Now we have the same number of frauds and good transactions, in total: {len(under_sampling_index)} records\")"
   ]
  },
  {
   "cell_type": "code",
   "execution_count": 17,
   "id": "30f79916e8c9cb6e",
   "metadata": {
    "ExecuteTime": {
     "end_time": "2024-04-11T00:09:43.670579200Z",
     "start_time": "2024-04-11T00:09:43.515841Z"
    },
    "collapsed": false
   },
   "outputs": [
    {
     "name": "stdout",
     "output_type": "stream",
     "text": [
      "Percentage of frauds after under-sampling: 50.00% \n",
      "Percentage of legitimate after under-sampling: 50.00% \n"
     ]
    }
   ],
   "source": [
    "# Now create an instance of that data\n",
    "under_sample_df = df1.iloc[under_sampling_index,:]\n",
    "# Number of each class\n",
    "frauds_under_sampling = len(under_sample_df[under_sample_df.Class == 1])\n",
    "legitimate_under_sampling = len(under_sample_df[under_sample_df.Class == 0])\n",
    "\n",
    "print(f\"Percentage of frauds after under-sampling: {frauds_under_sampling/under_sample_df.shape[0]*100:.2f}% \")\n",
    "print(f\"Percentage of legitimate after under-sampling: {legitimate_under_sampling/under_sample_df.shape[0]*100:.2f}% \")\n"
   ]
  },
  {
   "cell_type": "code",
   "execution_count": 18,
   "id": "a9e1891941645a32",
   "metadata": {
    "ExecuteTime": {
     "end_time": "2024-04-11T00:09:43.705780300Z",
     "start_time": "2024-04-11T00:09:43.556655800Z"
    },
    "collapsed": false
   },
   "outputs": [],
   "source": [
    "# Create the new X and y \n",
    "X_undersample = under_sample_df.loc[:, under_sample_df.columns != 'Class']\n",
    "y_undersample = under_sample_df.loc[:, under_sample_df.columns == 'Class']"
   ]
  },
  {
   "cell_type": "markdown",
   "id": "962d803d0d4b6bd2",
   "metadata": {
    "collapsed": false
   },
   "source": []
  },
  {
   "cell_type": "markdown",
   "id": "778e2adceab8138f",
   "metadata": {
    "collapsed": false
   },
   "source": [
    "# Splitting the data into train and test sets"
   ]
  },
  {
   "cell_type": "code",
   "execution_count": 19,
   "id": "d88012d9a87a9038",
   "metadata": {
    "ExecuteTime": {
     "end_time": "2024-04-11T00:09:43.956836200Z",
     "start_time": "2024-04-11T00:09:43.573094900Z"
    },
    "collapsed": false
   },
   "outputs": [
    {
     "name": "stdout",
     "output_type": "stream",
     "text": [
      "Number transactions train dataset:  199364\n",
      "Number transactions test dataset:  85443\n",
      "Total number of transactions:  284807\n"
     ]
    }
   ],
   "source": [
    "from sklearn.model_selection import train_test_split\n",
    "\n",
    "# Entire dataset\n",
    "X_train, X_test, y_train, y_test = train_test_split(X,y, test_size=0.3, random_state=42)\n",
    "\n",
    "print(\"Number transactions train dataset: \", len(X_train))\n",
    "print(\"Number transactions test dataset: \", len(X_test))\n",
    "print(\"Total number of transactions: \", len(X_train)+len(X_test))"
   ]
  },
  {
   "cell_type": "code",
   "execution_count": 20,
   "id": "79758f0c7cba9285",
   "metadata": {
    "ExecuteTime": {
     "end_time": "2024-04-11T00:09:44.167856500Z",
     "start_time": "2024-04-11T00:09:43.782008400Z"
    },
    "collapsed": false
   },
   "outputs": [
    {
     "name": "stdout",
     "output_type": "stream",
     "text": [
      "Number transactions train dataset:  688\n",
      "Number transactions test dataset:  296\n",
      "Total number of transactions:  984\n"
     ]
    }
   ],
   "source": [
    "# Under sampled dataset\n",
    "\n",
    "X_train_us, X_test_us, y_train_us, y_test_us = train_test_split(\n",
    "    X_undersample,\n",
    "    y_undersample, \n",
    "    test_size=0.3, \n",
    "    random_state=42\n",
    ")\n",
    "\n",
    "print(\"Number transactions train dataset: \", len(X_train_us))\n",
    "print(\"Number transactions test dataset: \", len(X_test_us))\n",
    "print(\"Total number of transactions: \", len(X_train_us)+len(X_test_us))"
   ]
  },
  {
   "cell_type": "code",
   "execution_count": 27,
   "id": "c1b29dace683183b",
   "metadata": {
    "ExecuteTime": {
     "end_time": "2024-04-11T00:09:44.169867900Z",
     "start_time": "2024-04-11T00:09:43.816404700Z"
    },
    "collapsed": false
   },
   "outputs": [],
   "source": [
    "from sklearn.model_selection import StratifiedKFold, cross_validate\n",
    "from sklearn.linear_model import LogisticRegression\n",
    "from sklearn.svm import SVC\n",
    "from sklearn.neighbors import KNeighborsClassifier\n",
    "import numpy as np\n",
    "\n",
    "# Initialize classifiers\n",
    "logistic = LogisticRegression(random_state=42, max_iter=1000)\n",
    "svm = SVC(random_state=42)\n",
    "knn = KNeighborsClassifier()"
   ]
  },
  {
   "cell_type": "code",
   "execution_count": 30,
   "id": "abf4da0b40200b81",
   "metadata": {
    "ExecuteTime": {
     "end_time": "2024-04-11T00:09:45.556655800Z",
     "start_time": "2024-04-11T00:09:43.862288700Z"
    },
    "collapsed": false
   },
   "outputs": [
    {
     "name": "stdout",
     "output_type": "stream",
     "text": [
      "Logistic Regression - Mean Recall Score: 0.915 (Standard Deviation: 0.038)\n",
      "Training Recall Scores: [0.9255079  0.9255079  0.91628959 0.91855204 0.92099323 0.91873589\n",
      " 0.91873589 0.93453725 0.93227991 0.92776524]\n",
      "\n",
      "SVM - Mean Recall Score: 0.890 (Standard Deviation: 0.044)\n",
      "Training Recall Scores: [0.89616253 0.90293454 0.89819005 0.89819005 0.89164786 0.88939052\n",
      " 0.88939052 0.9006772  0.9006772  0.90970655]\n",
      "\n",
      "KNN - Mean Recall Score: 0.902 (Standard Deviation: 0.043)\n",
      "Training Recall Scores: [0.92099323 0.91422122 0.91628959 0.92081448 0.92099323 0.91873589\n",
      " 0.91647856 0.9255079  0.9255079  0.9255079 ]\n",
      "\n"
     ]
    }
   ],
   "source": [
    "\n",
    "# Setup 10-fold stratified cross-validation\n",
    "kfold = StratifiedKFold(n_splits=10, shuffle=True, random_state=42)\n",
    "\n",
    "# Perform cross-validation and print scores for each model\n",
    "for model, name in zip([logistic, svm, knn], ['Logistic Regression', 'SVM', 'KNN']):\n",
    "\n",
    "    cv_scores = cross_validate(\n",
    "        model, \n",
    "        X_undersample, \n",
    "        y_undersample.values.ravel(), \n",
    "        cv=kfold, \n",
    "        scoring='recall',\n",
    "        return_estimator=True, \n",
    "        return_train_score=True\n",
    "    )\n",
    "\n",
    "    \n",
    "    print(f\"{name} - Mean Recall Score: {np.mean(cv_scores['test_score']):.3f} (Standard Deviation: {np.std(cv_scores['test_score']):.3f})\")\n",
    "    print(f\"Training Recall Scores: {cv_scores['train_score']}\\n\")"
   ]
  },
  {
   "cell_type": "markdown",
   "id": "1ffe9201",
   "metadata": {},
   "source": [
    "# Complete dataset"
   ]
  },
  {
   "cell_type": "code",
   "execution_count": 32,
   "id": "083a550d",
   "metadata": {},
   "outputs": [
    {
     "data": {
      "text/html": [
       "<style>#sk-container-id-1 {color: black;background-color: white;}#sk-container-id-1 pre{padding: 0;}#sk-container-id-1 div.sk-toggleable {background-color: white;}#sk-container-id-1 label.sk-toggleable__label {cursor: pointer;display: block;width: 100%;margin-bottom: 0;padding: 0.3em;box-sizing: border-box;text-align: center;}#sk-container-id-1 label.sk-toggleable__label-arrow:before {content: \"▸\";float: left;margin-right: 0.25em;color: #696969;}#sk-container-id-1 label.sk-toggleable__label-arrow:hover:before {color: black;}#sk-container-id-1 div.sk-estimator:hover label.sk-toggleable__label-arrow:before {color: black;}#sk-container-id-1 div.sk-toggleable__content {max-height: 0;max-width: 0;overflow: hidden;text-align: left;background-color: #f0f8ff;}#sk-container-id-1 div.sk-toggleable__content pre {margin: 0.2em;color: black;border-radius: 0.25em;background-color: #f0f8ff;}#sk-container-id-1 input.sk-toggleable__control:checked~div.sk-toggleable__content {max-height: 200px;max-width: 100%;overflow: auto;}#sk-container-id-1 input.sk-toggleable__control:checked~label.sk-toggleable__label-arrow:before {content: \"▾\";}#sk-container-id-1 div.sk-estimator input.sk-toggleable__control:checked~label.sk-toggleable__label {background-color: #d4ebff;}#sk-container-id-1 div.sk-label input.sk-toggleable__control:checked~label.sk-toggleable__label {background-color: #d4ebff;}#sk-container-id-1 input.sk-hidden--visually {border: 0;clip: rect(1px 1px 1px 1px);clip: rect(1px, 1px, 1px, 1px);height: 1px;margin: -1px;overflow: hidden;padding: 0;position: absolute;width: 1px;}#sk-container-id-1 div.sk-estimator {font-family: monospace;background-color: #f0f8ff;border: 1px dotted black;border-radius: 0.25em;box-sizing: border-box;margin-bottom: 0.5em;}#sk-container-id-1 div.sk-estimator:hover {background-color: #d4ebff;}#sk-container-id-1 div.sk-parallel-item::after {content: \"\";width: 100%;border-bottom: 1px solid gray;flex-grow: 1;}#sk-container-id-1 div.sk-label:hover label.sk-toggleable__label {background-color: #d4ebff;}#sk-container-id-1 div.sk-serial::before {content: \"\";position: absolute;border-left: 1px solid gray;box-sizing: border-box;top: 0;bottom: 0;left: 50%;z-index: 0;}#sk-container-id-1 div.sk-serial {display: flex;flex-direction: column;align-items: center;background-color: white;padding-right: 0.2em;padding-left: 0.2em;position: relative;}#sk-container-id-1 div.sk-item {position: relative;z-index: 1;}#sk-container-id-1 div.sk-parallel {display: flex;align-items: stretch;justify-content: center;background-color: white;position: relative;}#sk-container-id-1 div.sk-item::before, #sk-container-id-1 div.sk-parallel-item::before {content: \"\";position: absolute;border-left: 1px solid gray;box-sizing: border-box;top: 0;bottom: 0;left: 50%;z-index: -1;}#sk-container-id-1 div.sk-parallel-item {display: flex;flex-direction: column;z-index: 1;position: relative;background-color: white;}#sk-container-id-1 div.sk-parallel-item:first-child::after {align-self: flex-end;width: 50%;}#sk-container-id-1 div.sk-parallel-item:last-child::after {align-self: flex-start;width: 50%;}#sk-container-id-1 div.sk-parallel-item:only-child::after {width: 0;}#sk-container-id-1 div.sk-dashed-wrapped {border: 1px dashed gray;margin: 0 0.4em 0.5em 0.4em;box-sizing: border-box;padding-bottom: 0.4em;background-color: white;}#sk-container-id-1 div.sk-label label {font-family: monospace;font-weight: bold;display: inline-block;line-height: 1.2em;}#sk-container-id-1 div.sk-label-container {text-align: center;}#sk-container-id-1 div.sk-container {/* jupyter's `normalize.less` sets `[hidden] { display: none; }` but bootstrap.min.css set `[hidden] { display: none !important; }` so we also need the `!important` here to be able to override the default hidden behavior on the sphinx rendered scikit-learn.org. See: https://github.com/scikit-learn/scikit-learn/issues/21755 */display: inline-block !important;position: relative;}#sk-container-id-1 div.sk-text-repr-fallback {display: none;}</style><div id=\"sk-container-id-1\" class=\"sk-top-container\"><div class=\"sk-text-repr-fallback\"><pre>LogisticRegression(class_weight=&#x27;balanced&#x27;, max_iter=1000, random_state=42)</pre><b>In a Jupyter environment, please rerun this cell to show the HTML representation or trust the notebook. <br />On GitHub, the HTML representation is unable to render, please try loading this page with nbviewer.org.</b></div><div class=\"sk-container\" hidden><div class=\"sk-item\"><div class=\"sk-estimator sk-toggleable\"><input class=\"sk-toggleable__control sk-hidden--visually\" id=\"sk-estimator-id-1\" type=\"checkbox\" checked><label for=\"sk-estimator-id-1\" class=\"sk-toggleable__label sk-toggleable__label-arrow\">LogisticRegression</label><div class=\"sk-toggleable__content\"><pre>LogisticRegression(class_weight=&#x27;balanced&#x27;, max_iter=1000, random_state=42)</pre></div></div></div></div></div>"
      ],
      "text/plain": [
       "LogisticRegression(class_weight='balanced', max_iter=1000, random_state=42)"
      ]
     },
     "execution_count": 32,
     "metadata": {},
     "output_type": "execute_result"
    }
   ],
   "source": [
    "from sklearn.linear_model import LogisticRegression\n",
    "\n",
    "logistic_model = LogisticRegression(max_iter=1000, class_weight='balanced', random_state=42)\n",
    "logistic_model.fit(X_train, y_train)\n"
   ]
  },
  {
   "cell_type": "code",
   "execution_count": 33,
   "id": "df565004",
   "metadata": {},
   "outputs": [
    {
     "name": "stdout",
     "output_type": "stream",
     "text": [
      "              precision    recall  f1-score   support\n",
      "\n",
      "           0       1.00      0.97      0.99     85307\n",
      "           1       0.06      0.93      0.10       136\n",
      "\n",
      "    accuracy                           0.97     85443\n",
      "   macro avg       0.53      0.95      0.55     85443\n",
      "weighted avg       1.00      0.97      0.99     85443\n",
      "\n",
      "ROC-AUC Score: 0.9820414623584439\n"
     ]
    }
   ],
   "source": [
    "from sklearn.metrics import classification_report, roc_auc_score\n",
    "\n",
    "y_pred = logistic_model.predict(X_test)\n",
    "y_pred_proba = logistic_model.predict_proba(X_test)[:, 1]\n",
    "\n",
    "print(classification_report(y_test, y_pred))\n",
    "print(\"ROC-AUC Score:\", roc_auc_score(y_test, y_pred_proba))\n"
   ]
  },
  {
   "cell_type": "code",
   "execution_count": 34,
   "id": "51f804bc",
   "metadata": {},
   "outputs": [
    {
     "name": "stdout",
     "output_type": "stream",
     "text": [
      "Accuracy - Mean: 0.977, Std: 0.001\n",
      "Precision - Mean: 0.066, Std: 0.003\n",
      "Recall - Mean: 0.912, Std: 0.035\n",
      "F1 - Mean: 0.123, Std: 0.006\n",
      "Roc_auc - Mean: 0.980, Std: 0.011\n"
     ]
    }
   ],
   "source": [
    "from sklearn.model_selection import cross_validate\n",
    "\n",
    "scoring = ['accuracy', 'precision', 'recall', 'f1', 'roc_auc']\n",
    "cv_results = cross_validate(logistic_model, X, y, cv=kfold, scoring=scoring)\n",
    "\n",
    "for metric in scoring:\n",
    "    print(f\"{metric.capitalize()} - Mean: {np.mean(cv_results['test_' + metric]):.3f}, Std: {np.std(cv_results['test_' + metric]):.3f}\")\n"
   ]
  },
  {
   "cell_type": "markdown",
   "id": "b2fb05c2",
   "metadata": {},
   "source": [
    "# Confusion matrix"
   ]
  },
  {
   "cell_type": "code",
   "execution_count": 35,
   "id": "fc741120",
   "metadata": {},
   "outputs": [],
   "source": [
    "# Assuming logistic_model is your trained LogisticRegression model\n",
    "# and X_test is your test features\n",
    "y_pred = logistic_model.predict(X_test)\n"
   ]
  },
  {
   "cell_type": "code",
   "execution_count": 36,
   "id": "7788cc6d",
   "metadata": {},
   "outputs": [
    {
     "name": "stdout",
     "output_type": "stream",
     "text": [
      "[[83156  2151]\n",
      " [   10   126]]\n"
     ]
    }
   ],
   "source": [
    "from sklearn.metrics import confusion_matrix\n",
    "\n",
    "cm = confusion_matrix(y_test, y_pred)\n",
    "print(cm)\n",
    "# [[TN, FP],\n",
    "# [FN, TP]]\n"
   ]
  },
  {
   "cell_type": "markdown",
   "id": "05c5aa8c",
   "metadata": {},
   "source": [
    "- TN is True Negatives: Non-fraudulent transactions correctly classified as non-fraudulent.\n",
    "- FP is False Positives: Non-fraudulent transactions incorrectly classified as fraudulent.\n",
    "- FN is False Negatives: Fraudulent transactions incorrectly classified as non-fraudulent.\n",
    "- TP is True Positives: Fraudulent transactions correctly classified as fraudulent."
   ]
  },
  {
   "cell_type": "code",
   "execution_count": 37,
   "id": "173415f0",
   "metadata": {},
   "outputs": [
    {
     "data": {
      "image/png": "[encoded data removed]",
      "text/plain": [
       "<Figure size 500x500 with 2 Axes>"
      ]
     },
     "metadata": {},
     "output_type": "display_data"
    }
   ],
   "source": [
    "# Label the axes for better readability\n",
    "fig, ax = plt.subplots(figsize=(5, 5))\n",
    "sns.heatmap(cm, annot=True, fmt='d', cmap=\"Blues\", ax=ax, square=True,\n",
    "            xticklabels=['Non-fraudulent', 'Fraudulent'],\n",
    "            yticklabels=['Non-fraudulent', 'Fraudulent'])\n",
    "plt.ylabel('Actual')\n",
    "plt.xlabel('Predicted')\n",
    "plt.title(\"Confusion Matrix\")\n",
    "plt.show()\n"
   ]
  },
  {
   "cell_type": "markdown",
   "id": "c4474e40",
   "metadata": {},
   "source": [
    "# Conclusion\n",
    "\n",
    "My logistic regression model exhibits a profound ability to identify fraudulent transactions within an extensively imbalanced dataset, capturing 93% of fraud cases. This capability is highlighted by the model's recall score of 0.912, indicating its efficiency in detecting the majority of fraudulent activities, a critical attribute for any fraud detection system where missing fraudulent transactions could have significant financial implications.\n",
    "\n",
    "While the model's precision is low, at approximately 0.066, indicating a higher rate of false positives—legitimate transactions erroneously flagged as fraudulent—it's a reflection of the complex trade-off in fraud detection systems between capturing as many frauds as possible (high recall) and minimizing incorrect fraud alerts (high precision). The relatively low F1 score of 0.123 suggests that this balance leans significantly towards recall, which in the context of fraud detection, is often prioritized to ensure minimal fraudulent transactions go undetected.\n",
    "\n",
    "The model's overall accuracy stands at 97.7%, showcasing its effectiveness in correctly classifying the vast majority of transactions. However, given the class imbalance, this metric should be considered alongside the more indicative ROC-AUC score, which at 0.980, underscores the model's excellent capability to distinguish between fraudulent and legitimate transactions across a range of decision thresholds.\n",
    "\n",
    "The confusion matrix further solidifies the model's strengths and weaknesses, revealing that while it successfully identifies 126 out of 136 actual fraud cases, it also misclassifies 2,151 legitimate transactions as fraudulent. This aspect underscores the need for continuous refinement of the model to better balance its precision and recall, possibly through advanced techniques, feature engineering, or exploring alternative models.\n",
    "\n",
    "In conclusion, my model represents a significant step forward in fraud detection, particularly in its strong recall performance. The insights garnered from its current limitations provide valuable direction for future improvements, aiming for a more balanced approach without substantially sacrificing its ability to detect fraud."
   ]
  }
 ],
 "metadata": {
  "kernelspec": {
   "display_name": "Python 3",
   "language": "python",
   "name": "python3"
  },
  "language_info": {
   "codemirror_mode": {
    "name": "ipython",
    "version": 3
   },
   "file_extension": ".py",
   "mimetype": "text/x-python",
   "name": "python",
   "nbconvert_exporter": "python",
   "pygments_lexer": "ipython3",
   "version": "3.8.19"
  }
 },
 "nbformat": 4,
 "nbformat_minor": 5
}
